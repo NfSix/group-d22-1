{
 "cells": [
  {
   "cell_type": "code",
   "execution_count": null,
   "id": "3b4560bd-9eac-4dd3-b2be-ca4d912b0134",
   "metadata": {},
   "outputs": [],
   "source": []
  }
 ],
 "metadata": {
  "kernelspec": {
   "display_name": "",
   "name": ""
  },
  "language_info": {
   "name": ""
  }
 },
 "nbformat": 4,
 "nbformat_minor": 5
}
